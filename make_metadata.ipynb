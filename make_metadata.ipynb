{
 "cells": [
  {
   "cell_type": "code",
   "execution_count": 1,
   "source": [
    "import glob\r\n",
    "import markdown\r\n",
    "import os \r\n",
    "import json \r\n",
    "import urllib"
   ],
   "outputs": [],
   "metadata": {}
  },
  {
   "cell_type": "code",
   "execution_count": 2,
   "source": [
    "for name in glob.glob('./GEM/*'):\r\n",
    "    print(name)"
   ],
   "outputs": [
    {
     "output_type": "stream",
     "name": "stdout",
     "text": [
      "./GEM\\Global Coal Mine Tracker.csv\n",
      "./GEM\\Global Coal Plant Tracker.csv\n",
      "./GEM\\Global Coal Public Finance Tracker.csv\n",
      "./GEM\\Global Gas Plant Tracker.csv\n"
     ]
    }
   ],
   "metadata": {}
  },
  {
   "cell_type": "code",
   "execution_count": 52,
   "source": [
    "## Testing block\r\n",
    "# for name in glob.glob('D:\\Project Folder\\Python\\**\\*.md'):\r\n",
    "    # print(name)\r\n",
    "\r\n",
    "## lstrip with removing characters\r\n",
    "# txt = \",,,,,ssaaww.....banana\"\r\n",
    "# x = txt.lstrip(\",.asw\")\r\n",
    "# print(x)\r\n",
    "\r\n",
    "# join as new lines\r\n",
    "# print(\"\\n\".join(['I','love','you','!']))\r\n",
    "\r\n",
    "## dictionary test\r\n",
    "my_dict = {}\r\n",
    "var1 = \"GEM\"\r\n",
    "var2 = {\"a\":\"bb\"}\r\n",
    "\r\n",
    "var3 = \"test\"\r\n",
    "var4 = {\"c\":\"dd\"}\r\n",
    "my_dict[var1] = var2\r\n",
    "my_dict[var3] = var4 \r\n",
    "print(my_dict)"
   ],
   "outputs": [
    {
     "output_type": "stream",
     "name": "stdout",
     "text": [
      "{'GEM': {'a': 'bb'}, 'test': {'c': 'dd'}}\n"
     ]
    }
   ],
   "metadata": {}
  },
  {
   "cell_type": "code",
   "execution_count": 81,
   "source": [
    "databases = {}\r\n",
    "tables = {}\r\n",
    "\r\n",
    "metadata = {\r\n",
    "    \"title\": \"piDB\",\r\n",
    "    \"license\": \"Not-commerical used!\",\r\n",
    "    \"about\": \"Personal Database\",\r\n",
    "    \"source\": \"Credit to original owners\",\r\n",
    "    \"databases\": databases,\r\n",
    "}\r\n",
    "for filepath in glob.glob(\"./*/README.md\"):\r\n",
    "    filepath = filepath[len(\"./\") :] # getting true file path\r\n",
    "    topdir = filepath.split(\"\\\\\")[0]\r\n",
    "\r\n",
    "    # Render Markdown to HTML\r\n",
    "    markdown_txt = open(os.path.join(\".\", filepath)).read()\r\n",
    "    title = None \r\n",
    "    lines = markdown_txt.split(\"\\n\")\r\n",
    "    if lines[0].startswith(\"# \"):\r\n",
    "        title = lines[0].lstrip(\"#\").strip()\r\n",
    "        markdown_txt = \"\\n\".join(lines[1:]).strip()\r\n",
    "    html = markdown.markdown(\r\n",
    "        markdown_txt, extensions=[\"markdown.extensions.tables\"]\r\n",
    "    )\r\n",
    "    html = html.replace(\"Data Source\", \"This table data is getting from \")\r\n",
    "    \r\n",
    "    for db_filepath in glob.glob(\"./{}/*.db\".format(topdir)): # if topdir isn't added , repeated extra times\r\n",
    "        # print(db_filepath)\r\n",
    "        folder = db_filepath.split(\"\\\\\")[0]\r\n",
    "        # print(folder)\r\n",
    "        db_main = db_filepath.split(\"\\\\\")[1].split(\".\")[0]\r\n",
    "        print(\"DB Path: {}\".format(db_main))\r\n",
    "        \r\n",
    "        databases[db_main] = {\r\n",
    "            \"title\": title,\r\n",
    "        }\r\n",
    "        for csv_filepath in glob.glob(\"{}/*.csv\".format(folder)):\r\n",
    "            print(\"CSV Path: {}\".format(csv_filepath))\r\n",
    "            table = csv_filepath.split(\"\\\\\")[1].split(\".\")[0]\r\n",
    "            tables[table] = {\r\n",
    "                \"description_html\": html,\r\n",
    "            }\r\n",
    "            if title:\r\n",
    "                tables[table][\"title\"] = \"{}: {}\".format(\r\n",
    "                    title, table\r\n",
    "                )\r\n",
    "        '''\r\n",
    "        for csv_filepath in glob.glob(\"./{}/*.csv\".format(key)):\r\n",
    "            print(\"CSV Path: {}\".format(csv_filepath))\r\n",
    "            table = csv_filepath.split(\"\\\\\")[1].split(\".\")[0]\r\n",
    "            tables[table] = {\r\n",
    "                \"description_html\": html,\r\n",
    "            }\r\n",
    "            if title:\r\n",
    "                tables[table][\"title\"] = \"{}: {}\".format(\r\n",
    "                    title, table\r\n",
    "                )\r\n",
    "        '''\r\n",
    "    #print(databases)\r\n",
    "open(\"metadata.json\", \"w\").write(json.dumps(metadata, indent=4))"
   ],
   "outputs": [
    {
     "output_type": "stream",
     "name": "stdout",
     "text": [
      "DB Path: ember\n",
      "CSV Path: ./Ember-Climate\\202108_monthly_database.csv\n",
      "CSV Path: ./Ember-Climate\\2021_annual_database.csv\n",
      "DB Path: gem\n",
      "CSV Path: ./GEM\\Global Coal Mine Tracker.csv\n",
      "CSV Path: ./GEM\\Global Coal Plant Tracker.csv\n",
      "CSV Path: ./GEM\\Global Coal Public Finance Tracker.csv\n",
      "CSV Path: ./GEM\\Global Gas Plant Tracker.csv\n"
     ]
    },
    {
     "output_type": "execute_result",
     "data": {
      "text/plain": [
       "304"
      ]
     },
     "metadata": {},
     "execution_count": 81
    }
   ],
   "metadata": {}
  },
  {
   "cell_type": "code",
   "execution_count": 18,
   "source": [],
   "outputs": [
    {
     "output_type": "stream",
     "name": "stdout",
     "text": [
      "{'GEM': {'a': 'bb'}, 'test': {'c': 'dd'}}\n"
     ]
    }
   ],
   "metadata": {}
  },
  {
   "cell_type": "code",
   "execution_count": null,
   "source": [],
   "outputs": [],
   "metadata": {}
  }
 ],
 "metadata": {
  "orig_nbformat": 4,
  "language_info": {
   "name": "python",
   "version": "3.9.1",
   "mimetype": "text/x-python",
   "codemirror_mode": {
    "name": "ipython",
    "version": 3
   },
   "pygments_lexer": "ipython3",
   "nbconvert_exporter": "python",
   "file_extension": ".py"
  },
  "kernelspec": {
   "name": "python3",
   "display_name": "Python 3.9.1 64-bit"
  },
  "interpreter": {
   "hash": "2647ea34e536f865ab67ff9ddee7fd78773d956cec0cab53c79b32cd10da5d83"
  }
 },
 "nbformat": 4,
 "nbformat_minor": 2
}