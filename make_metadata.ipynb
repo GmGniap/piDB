{
 "cells": [
  {
   "cell_type": "code",
   "execution_count": 1,
   "source": [
    "import glob\r\n",
    "import markdown\r\n",
    "import os \r\n",
    "import json \r\n",
    "import urllib\r\n",
    "import sqlite_utils\r\n",
    "import sys "
   ],
   "outputs": [],
   "metadata": {}
  },
  {
   "cell_type": "code",
   "execution_count": 52,
   "source": [
    "## Testing block\r\n",
    "# for name in glob.glob('D:\\Project Folder\\Python\\**\\*.md'):\r\n",
    "    # print(name)\r\n",
    "\r\n",
    "## lstrip with removing characters\r\n",
    "# txt = \",,,,,ssaaww.....banana\"\r\n",
    "# x = txt.lstrip(\",.asw\")\r\n",
    "# print(x)\r\n",
    "\r\n",
    "# join as new lines\r\n",
    "# print(\"\\n\".join(['I','love','you','!']))\r\n",
    "\r\n",
    "## dictionary test\r\n",
    "# my_dict = {}\r\n",
    "# var1 = \"GEM\"\r\n",
    "# var2 = {\"a\":\"bb\"}\r\n",
    "\r\n",
    "# var3 = \"test\"\r\n",
    "# var4 = {\"c\":\"dd\"}\r\n",
    "# my_dict[var1] = var2\r\n",
    "# my_dict[var3] = var4 \r\n",
    "# print(my_dict)"
   ],
   "outputs": [
    {
     "output_type": "stream",
     "name": "stdout",
     "text": [
      "{'GEM': {'a': 'bb'}, 'test': {'c': 'dd'}}\n"
     ]
    }
   ],
   "metadata": {}
  },
  {
   "cell_type": "code",
   "execution_count": 3,
   "source": [
    "metadata = json.load(open(\"./metadata.json\"))\r\n",
    "metadata[\"databases\"] = metadata.get(\"databases\") or {}\r\n",
    "print(metadata[\"databases\"])"
   ],
   "outputs": [
    {
     "output_type": "stream",
     "name": "stdout",
     "text": [
      "{'bp_energy': {'title': 'BP Staticial Review of World Energy'}, 'ember': {'title': 'Ember Climate'}, 'gem': {'title': 'Global Energy Monitor'}}\n"
     ]
    }
   ],
   "metadata": {}
  },
  {
   "cell_type": "code",
   "execution_count": 10,
   "source": [
    "databases = {}\r\n",
    "tables = {}\r\n",
    "\r\n",
    "metadata = {\r\n",
    "    \"title\": \"piDB\",\r\n",
    "    \"license\": \"Non-commercial\",\r\n",
    "    \"about\": \"Personal Database\",\r\n",
    "    \"source\": \"Credit to original owners\",\r\n",
    "    \"databases\" : databases\r\n",
    "}\r\n",
    "for filepath in glob.glob(\"./*/README.md\"):\r\n",
    "    filepath = filepath[len(\"./\") :] # getting true file path\r\n",
    "    topdir = filepath.split(\"\\\\\")[0]\r\n",
    "\r\n",
    "    # Render Markdown to HTML\r\n",
    "    markdown_txt = open(os.path.join(\".\", filepath)).read()\r\n",
    "    title = None \r\n",
    "    lines = markdown_txt.split(\"\\n\")\r\n",
    "    if lines[0].startswith(\"# \"):\r\n",
    "        title = lines[0].lstrip(\"#\").strip()\r\n",
    "        markdown_txt = \"\\n\".join(lines[1:]).strip()\r\n",
    "    html = markdown.markdown(\r\n",
    "        markdown_txt, extensions=[\"markdown.extensions.tables\"]\r\n",
    "    )\r\n",
    "    html = html.replace(\"Data Source\", \"This table data is getting from \")\r\n",
    "    \r\n",
    "    for db_filepath in glob.glob(\"./{}/*.db\".format(topdir)): # if topdir isn't added , repeated extra times\r\n",
    "        # print(db_filepath)\r\n",
    "        folder = db_filepath.split(\"\\\\\")[0]\r\n",
    "        # print(folder)\r\n",
    "        db_name = db_filepath.split(\"\\\\\")[1].split(\".\")[0]\r\n",
    "        print(\"DB Name: {}\".format(db_name))\r\n",
    "        \r\n",
    "        databases[db_name] = {\r\n",
    "            \"title\": title,\r\n",
    "            \"tables\": {}\r\n",
    "            }\r\n",
    "        \r\n",
    "        for csv_filepath in glob.glob(\"{}/*.csv\".format(folder)):\r\n",
    "            #print(\"CSV Path: {}\".format(csv_filepath))\r\n",
    "            table_name = csv_filepath.split(\"\\\\\")[1].split(\".\")[0]\r\n",
    "            print(\"Table Name: {}\".format(table_name))\r\n",
    "            metadata[\"databases\"][db_name][\"tables\"][table_name] = {\r\n",
    "                \"description_html\": html,\r\n",
    "            }\r\n",
    "            if title:\r\n",
    "                metadata[\"databases\"][db_name][\"tables\"][table_name][\"title\"] = \"{}: {}\".format(\r\n",
    "                    title, table_name\r\n",
    "                )\r\n",
    "            \r\n",
    "        '''\r\n",
    "        for csv_filepath in glob.glob(\"./{}/*.csv\".format(key)):\r\n",
    "            print(\"CSV Path: {}\".format(csv_filepath))\r\n",
    "            table = csv_filepath.split(\"\\\\\")[1].split(\".\")[0]\r\n",
    "            tables[table] = {\r\n",
    "                \"description_html\": html,\r\n",
    "            }\r\n",
    "            if title:\r\n",
    "                tables[table][\"title\"] = \"{}: {}\".format(\r\n",
    "                    title, table\r\n",
    "                )\r\n",
    "        '''\r\n",
    "    #print(databases)\r\n",
    "open(\"metadata.json\", \"w\").write(json.dumps(metadata, indent=4))"
   ],
   "outputs": [
    {
     "output_type": "stream",
     "name": "stdout",
     "text": [
      "DB Name: bp_energy\n",
      "Table Name: bp_stats_review\n",
      "{'bp_energy': {'title': 'BP Staticial Review of World Energy', 'tables': {'bp_stats_review': {'description_html': '<p>Year - 2021 , Source - https://www.bp.com/en/global/corporate/energy-economics/statistical-review-of-world-energy.html</p>', 'title': 'BP Staticial Review of World Energy: bp_stats_review'}}}}\n",
      "DB Name: ember\n",
      "Table Name: 202108_monthly_database\n",
      "Table Name: 2021_annual_database\n",
      "{'bp_energy': {'title': 'BP Staticial Review of World Energy', 'tables': {'bp_stats_review': {'description_html': '<p>Year - 2021 , Source - https://www.bp.com/en/global/corporate/energy-economics/statistical-review-of-world-energy.html</p>', 'title': 'BP Staticial Review of World Energy: bp_stats_review'}}}, 'ember': {'title': 'Ember Climate', 'tables': {'202108_monthly_database': {'description_html': '<p>This table data is getting from  - https://github.com/ember-climate/ember-data-api/tree/main/data</p>', 'title': 'Ember Climate: 202108_monthly_database'}, '2021_annual_database': {'description_html': '<p>This table data is getting from  - https://github.com/ember-climate/ember-data-api/tree/main/data</p>', 'title': 'Ember Climate: 2021_annual_database'}}}}\n",
      "DB Name: gem\n",
      "Table Name: Global_Coal_Mine_Tracker\n",
      "Table Name: Global_Coal_Plant_Tracker\n",
      "Table Name: Global_Coal_Public_Finance_Tracker\n",
      "Table Name: Global_Gas_Plant_Tracker\n",
      "{'bp_energy': {'title': 'BP Staticial Review of World Energy', 'tables': {'bp_stats_review': {'description_html': '<p>Year - 2021 , Source - https://www.bp.com/en/global/corporate/energy-economics/statistical-review-of-world-energy.html</p>', 'title': 'BP Staticial Review of World Energy: bp_stats_review'}}}, 'ember': {'title': 'Ember Climate', 'tables': {'202108_monthly_database': {'description_html': '<p>This table data is getting from  - https://github.com/ember-climate/ember-data-api/tree/main/data</p>', 'title': 'Ember Climate: 202108_monthly_database'}, '2021_annual_database': {'description_html': '<p>This table data is getting from  - https://github.com/ember-climate/ember-data-api/tree/main/data</p>', 'title': 'Ember Climate: 2021_annual_database'}}}, 'gem': {'title': 'Global Energy Monitor', 'tables': {'Global_Coal_Mine_Tracker': {'description_html': '<p>This table data is getting from  - https://globalenergymonitor.org/projects/</p>', 'title': 'Global Energy Monitor: Global_Coal_Mine_Tracker'}, 'Global_Coal_Plant_Tracker': {'description_html': '<p>This table data is getting from  - https://globalenergymonitor.org/projects/</p>', 'title': 'Global Energy Monitor: Global_Coal_Plant_Tracker'}, 'Global_Coal_Public_Finance_Tracker': {'description_html': '<p>This table data is getting from  - https://globalenergymonitor.org/projects/</p>', 'title': 'Global Energy Monitor: Global_Coal_Public_Finance_Tracker'}, 'Global_Gas_Plant_Tracker': {'description_html': '<p>This table data is getting from  - https://globalenergymonitor.org/projects/</p>', 'title': 'Global Energy Monitor: Global_Gas_Plant_Tracker'}}}}\n"
     ]
    },
    {
     "output_type": "execute_result",
     "data": {
      "text/plain": [
       "2478"
      ]
     },
     "metadata": {},
     "execution_count": 10
    }
   ],
   "metadata": {}
  },
  {
   "cell_type": "code",
   "execution_count": 18,
   "source": [],
   "outputs": [
    {
     "output_type": "stream",
     "name": "stdout",
     "text": [
      "{'GEM': {'a': 'bb'}, 'test': {'c': 'dd'}}\n"
     ]
    }
   ],
   "metadata": {}
  },
  {
   "cell_type": "code",
   "execution_count": null,
   "source": [],
   "outputs": [],
   "metadata": {}
  }
 ],
 "metadata": {
  "orig_nbformat": 4,
  "language_info": {
   "name": "python",
   "version": "3.9.1",
   "mimetype": "text/x-python",
   "codemirror_mode": {
    "name": "ipython",
    "version": 3
   },
   "pygments_lexer": "ipython3",
   "nbconvert_exporter": "python",
   "file_extension": ".py"
  },
  "kernelspec": {
   "name": "python3",
   "display_name": "Python 3.9.1 64-bit"
  },
  "interpreter": {
   "hash": "2647ea34e536f865ab67ff9ddee7fd78773d956cec0cab53c79b32cd10da5d83"
  }
 },
 "nbformat": 4,
 "nbformat_minor": 2
}